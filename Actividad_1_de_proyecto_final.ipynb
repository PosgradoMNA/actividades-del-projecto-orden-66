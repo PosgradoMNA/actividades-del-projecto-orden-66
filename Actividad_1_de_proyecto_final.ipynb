{
  "nbformat": 4,
  "nbformat_minor": 0,
  "metadata": {
    "colab": {
      "provenance": [],
      "include_colab_link": true
    },
    "kernelspec": {
      "name": "python3",
      "display_name": "Python 3"
    },
    "language_info": {
      "name": "python"
    }
  },
  "cells": [
    {
      "cell_type": "markdown",
      "metadata": {
        "id": "view-in-github",
        "colab_type": "text"
      },
      "source": [
        "<a href=\"https://colab.research.google.com/github/PosgradoMNA/actividades-del-projecto-orden-66/blob/main/Actividad_1_de_proyecto_final.ipynb\" target=\"_parent\"><img src=\"https://colab.research.google.com/assets/colab-badge.svg\" alt=\"Open In Colab\"/></a>"
      ]
    },
    {
      "cell_type": "markdown",
      "source": [
        "# 1. Nombre: Airbnb-NYC-Cleaned"
      ],
      "metadata": {
        "id": "3tfn2kHeTwVT"
      }
    },
    {
      "cell_type": "markdown",
      "source": [
        "# 2. Organización: AirBNB Inside"
      ],
      "metadata": {
        "id": "CsKqqoOpUxDy"
      }
    },
    {
      "cell_type": "markdown",
      "source": [
        "# 3. Link: https://www.kaggle.com/datasets/sandeepmajumdar/airbnbnyccleaned"
      ],
      "metadata": {
        "id": "-Ehmhsp9VHT6"
      }
    },
    {
      "cell_type": "markdown",
      "source": [
        "# 4. ¿Qué datos contiene?"
      ],
      "metadata": {
        "id": "aGd58F8IVUkb"
      }
    },
    {
      "cell_type": "markdown",
      "source": [
        "## Contiene los siguientes datos acerca de varios AirBNB's en Nueva York:\n",
        "ID, Name, Host_id, Host_identity_verified, Host_name, Neighbourhood_group, Neighbourhood, Lat, Long, Instant_bookable, Cancellation_policy, Room_type, Construction_year, Price, Service_fee, Minimum_nights, Number_of_reviews, Last_review, Reviews_per_month, Review_rate_number, Calculated_host_listings_count, Availability_365, House_rules"
      ],
      "metadata": {
        "id": "LulzToq5VgOC"
      }
    },
    {
      "cell_type": "markdown",
      "source": [
        "# 5. ¿Cuáles son algunas de las preguntas de investigación que podría responder con estos datos? Enumere al menos OCHO (no responda las preguntas)"
      ],
      "metadata": {
        "id": "UZQRoi2xX2Wa"
      }
    },
    {
      "cell_type": "markdown",
      "source": [
        "##- ¿El precio a pagar es justo dependiendo de la colonia?\n",
        "\n",
        "\n"
      ],
      "metadata": {
        "id": "tTxHubUZX5jp"
      }
    },
    {
      "cell_type": "markdown",
      "source": [
        "## - ¿"
      ],
      "metadata": {
        "id": "IQfbSWvnX-ZR"
      }
    },
    {
      "cell_type": "markdown",
      "source": [
        "##- ¿"
      ],
      "metadata": {
        "id": "CdFIKeuyYA5J"
      }
    },
    {
      "cell_type": "markdown",
      "source": [
        "##- ¿"
      ],
      "metadata": {
        "id": "utVmRfgsYD7Z"
      }
    },
    {
      "cell_type": "markdown",
      "source": [
        "##- ¿"
      ],
      "metadata": {
        "id": "HNvv5L3FYHlS"
      }
    },
    {
      "cell_type": "markdown",
      "source": [
        "##- ¿"
      ],
      "metadata": {
        "id": "x7sgeH91YLfK"
      }
    },
    {
      "cell_type": "markdown",
      "source": [
        "##- ¿"
      ],
      "metadata": {
        "id": "esrbxP4IYOJq"
      }
    },
    {
      "cell_type": "markdown",
      "source": [
        "##- ¿"
      ],
      "metadata": {
        "id": "QWszi5osYQCZ"
      }
    },
    {
      "cell_type": "markdown",
      "source": [
        "# 6. ¿Qué actor (empresa, sector de la sociedad, organismo descentralizado, gobierno, etc.) estaría interesado en las preguntas mencionadas que identificó?"
      ],
      "metadata": {
        "id": "mR5CXek8Z2uC"
      }
    },
    {
      "cell_type": "markdown",
      "source": [
        "## Agencias de viaje, competencia de AirBNB (hoteles, hostales, otras plataformas), viajeros frecuentes por turismo o por trabajo, gobierno (por la derrama económica de las zonas donde hay AirBNBs)"
      ],
      "metadata": {
        "id": "9A_gea7XbMJS"
      }
    },
    {
      "cell_type": "code",
      "source": [],
      "metadata": {
        "id": "iQ6OzFi8W98o"
      },
      "execution_count": null,
      "outputs": []
    }
  ]
}